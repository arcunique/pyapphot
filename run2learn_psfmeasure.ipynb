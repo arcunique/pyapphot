{
 "cells": [
  {
   "cell_type": "code",
   "execution_count": 1,
   "metadata": {},
   "outputs": [
    {
     "name": "stdout",
     "output_type": "stream",
     "text": [
      "Ginga not installed, use other viewer, or no viewer\n"
     ]
    }
   ],
   "source": [
    "import os, numpy as np, logging\n",
    "from pyapphot.apphot import starPSF\n",
    "os.chdir('test_data')"
   ]
  },
  {
   "cell_type": "markdown",
   "metadata": {},
   "source": [
    "# Calculate PSF properties at given co-ordinates\n",
    "PSF properties which are required for checking the quality of the images and also for photometry are:\\\n",
    "FWHM, peak,ellipticity, pa ,background-sky noise. You can calculate all the properties using the starPSF class and save the results to a pickle file which can be opened later."
   ]
  },
  {
   "cell_type": "code",
   "execution_count": 7,
   "metadata": {},
   "outputs": [
    {
     "name": "stdout",
     "output_type": "stream",
     "text": [
      "xc=263.5863\tyc=1145.8722\n",
      "xc=565.6814\tyc=894.2403\n",
      "xc=620.2962\tyc=1742.2601\n",
      "xc=1287.2993\tyc=404.1012\n",
      "xc=263.9450\tyc=1145.9830\n",
      "xc=566.0164\tyc=894.1403\n",
      "xc=620.6364\tyc=1742.3525\n",
      "xc=1287.6292\tyc=403.7495\n",
      "xc=264.0484\tyc=1145.9681\n",
      "xc=566.1555\tyc=894.1985\n",
      "xc=620.8098\tyc=1742.3980\n",
      "xc=1287.6820\tyc=404.0553\n",
      "xc=264.1859\tyc=1146.2991\n",
      "xc=566.3073\tyc=894.4842\n",
      "xc=620.8736\tyc=1742.8035\n",
      "xc=1287.8734\tyc=404.2877\n",
      "xc=263.9702\tyc=1146.1225\n",
      "xc=566.1323\tyc=894.3431\n",
      "xc=620.7268\tyc=1742.5998\n",
      "xc=1287.6999\tyc=404.1697\n"
     ]
    }
   ],
   "source": [
    "psf = starPSF(image='al@imlist', coordfile='new*.coo', calculate=True, saveto='imstat.pkl') "
   ]
  },
  {
   "cell_type": "markdown",
   "metadata": {},
   "source": [
    "# Load PSF stat and analyze image quality"
   ]
  },
  {
   "cell_type": "code",
   "execution_count": 8,
   "metadata": {},
   "outputs": [
    {
     "name": "stdout",
     "output_type": "stream",
     "text": [
      "{'ellip': array([[0.09, 0.09, 0.11, 0.12],\n",
      "       [0.03, 0.02, 0.04, 0.03],\n",
      "       [0.13, 0.12, 0.14, 0.13],\n",
      "       [0.16, 0.16, 0.18, 0.19],\n",
      "       [0.15, 0.14, 0.16, 0.16]]), 'peak': array([[246794.67950891, 189438.12823083, 328185.93829712,\n",
      "        465318.46940319],\n",
      "       [245584.0259947 , 182785.77592538, 311608.67160259,\n",
      "        430730.82211452],\n",
      "       [234719.5667304 , 171933.70131579, 291833.12214311,\n",
      "        403065.11028365],\n",
      "       [260910.64904785, 192460.90881026, 322805.25212256,\n",
      "        460695.74529167],\n",
      "       [231548.3311077 , 173136.50063555, 288777.09962197,\n",
      "        414802.57904973]]), 'fwhm': array([[6.312, 6.168, 6.08 , 6.   ],\n",
      "       [6.268, 6.648, 6.624, 6.72 ],\n",
      "       [6.336, 6.86 , 6.956, 6.924],\n",
      "       [6.716, 7.056, 7.112, 6.824],\n",
      "       [6.304, 6.676, 6.444, 6.716]]), 'image': ['alh2acl310100.fits', 'alh2acl310101.fits', 'alh2acl310102.fits', 'alh2acl310103.fits', 'alh2acl310104.fits'], 'coordfile': ['new_h2acl310100.coo', 'new_h2acl310101.coo', 'new_h2acl310102.coo', 'new_h2acl310103.coo', 'new_h2acl310104.coo'], 'Nobject': [4, 4, 4, 4, 4]}\n"
     ]
    }
   ],
   "source": [
    "psf =  starPSF(image='al@imlist', coordfile='new*.coo', loadfrom='imstat.pkl')\n",
    "psfstats = psf.get_stat('all', statkey=['ellip','peak','fwhm'], return_dict=True) # check some properties\n",
    "# or just\n",
    "# starPSF.get_stat(None,statkey=['ellip','peak','fwhm']) # check some properties\n",
    "print(psfstats)"
   ]
  },
  {
   "cell_type": "markdown",
   "metadata": {},
   "source": [
    "You can impose criteria and select the objects and frames accordingly. You can set a trade-off between removing bad objects and bad frames by the argument 'Nfiledelmax'. This tells you how many frames you are ready to remove from your calculation at most. Accordingly the objects not matching the criteria will be removed.This analysis will give you a list of frames that satisfy the given criteria for each object and also tells you how many frames and how many objects you need to remove from your calculation."
   ]
  },
  {
   "cell_type": "code",
   "execution_count": 9,
   "metadata": {},
   "outputs": [
    {
     "name": "stdout",
     "output_type": "stream",
     "text": [
      "object 1: conditions not met by 2 image(s).\n",
      "object 2: conditions not met by 2 image(s).\n",
      "object 3: conditions not met by 3 image(s).\n",
      "object 4: conditions not met by 2 image(s).\n",
      "\n",
      "Following files are selected per object\n",
      "\n",
      "Object 1: alh2acl310100.fits, alh2acl310101.fits, alh2acl310102.fits\n",
      "Object 2: alh2acl310100.fits, alh2acl310101.fits, alh2acl310102.fits\n",
      "Object 3: alh2acl310100.fits, alh2acl310101.fits\n",
      "Object 4: alh2acl310100.fits, alh2acl310101.fits, alh2acl310102.fits\n"
     ]
    },
    {
     "data": {
      "text/plain": [
       "{'delete_images': ['alh2acl310103.fits', 'alh2acl310104.fits'],\n",
       " 'remove_obj': [2]}"
      ]
     },
     "execution_count": 9,
     "metadata": {},
     "output_type": "execute_result"
    }
   ],
   "source": [
    "criteria = dict(ellip=(0,0.13),peak=(80000,500000))\n",
    "imselected, remove = psf.select_imageNobj(criteria, objsynced=True, Nfiledelmax=2)\n",
    "print(\"\\nFollowing files are selected per object\\n\")\n",
    "for i,im in enumerate(imselected):\n",
    "    print(f\"Object {i+1}: {', '.join(im)}\")\n",
    "remove"
   ]
  },
  {
   "cell_type": "code",
   "execution_count": 10,
   "metadata": {},
   "outputs": [],
   "source": [
    "psf.adjust_coordfile(remove['remove_obj'])"
   ]
  },
  {
   "cell_type": "code",
   "execution_count": null,
   "metadata": {},
   "outputs": [],
   "source": []
  }
 ],
 "metadata": {
  "kernelspec": {
   "display_name": "Python 3",
   "language": "python",
   "name": "python3"
  },
  "language_info": {
   "codemirror_mode": {
    "name": "ipython",
    "version": 3
   },
   "file_extension": ".py",
   "mimetype": "text/x-python",
   "name": "python",
   "nbconvert_exporter": "python",
   "pygments_lexer": "ipython3",
   "version": "3.7.3"
  }
 },
 "nbformat": 4,
 "nbformat_minor": 2
}
