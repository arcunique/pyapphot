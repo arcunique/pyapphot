{
 "cells": [
  {
   "cell_type": "code",
   "execution_count": 1,
   "metadata": {},
   "outputs": [],
   "source": [
    "import os\n",
    "from pyapphot.fits_factory import *\n",
    "os.chdir('test_data/jcbt/')"
   ]
  },
  {
   "cell_type": "code",
   "execution_count": 2,
   "metadata": {},
   "outputs": [],
   "source": [
    "isfu = instrument_specific_fits_update('JCBT_UKATC')"
   ]
  },
  {
   "cell_type": "code",
   "execution_count": 3,
   "metadata": {},
   "outputs": [],
   "source": [
    "isfu.segregate_imagetypes('*.fits', objectext=1)"
   ]
  },
  {
   "cell_type": "code",
   "execution_count": null,
   "metadata": {},
   "outputs": [],
   "source": [
    "isfu.execute_all('@wasp50_R', obsdate2jd=True)"
   ]
  },
  {
   "cell_type": "code",
   "execution_count": 9,
   "metadata": {},
   "outputs": [],
   "source": [
    "isfu.covert_3dto2d('@flatlist_R')"
   ]
  },
  {
   "cell_type": "code",
   "execution_count": 7,
   "metadata": {},
   "outputs": [],
   "source": [
    "isfu.setjd('@photimlist')"
   ]
  },
  {
   "cell_type": "code",
   "execution_count": 7,
   "metadata": {},
   "outputs": [
    {
     "name": "stdout",
     "output_type": "stream",
     "text": [
      "# date-obs ut\n",
      "06-01-2019 12:56:14.5824\n",
      "06-01-2019 12:57:21.7044\n",
      "06-01-2019 12:58:28.4556\n",
      "07-01-2019 12:55:45.894\n",
      "07-01-2019 12:56:44.5164\n",
      "07-01-2019 12:49:9.5232\n",
      "07-01-2019 12:50:14.2728\n",
      "2458491.248020125 17:57:8.9388\n",
      "2458491.2499630833 17:59:56.8104\n",
      "2458491.2519075 18:2:44.808\n",
      "2458491.2538548335 18:5:33.0576\n",
      "2458491.2557963333 18:8:20.8032\n",
      "2458491.2577392915 18:11:8.6748\n"
     ]
    }
   ],
   "source": [
    "fits_details('*.fits', keys=('date-obs','ut'))"
   ]
  },
  {
   "cell_type": "code",
   "execution_count": 8,
   "metadata": {},
   "outputs": [
    {
     "name": "stdout",
     "output_type": "stream",
     "text": [
      "# date-obs\n",
      "2458491.2480201274\n",
      "2458491.2499630786\n",
      "2458491.2519075\n",
      "2458491.2538548377\n"
     ]
    }
   ],
   "source": [
    "fits_details('@photimlist', keys=('date-obs',))"
   ]
  },
  {
   "cell_type": "code",
   "execution_count": null,
   "metadata": {},
   "outputs": [],
   "source": []
  }
 ],
 "metadata": {
  "kernelspec": {
   "display_name": "Python 3",
   "language": "python",
   "name": "python3"
  },
  "language_info": {
   "codemirror_mode": {
    "name": "ipython",
    "version": 3
   },
   "file_extension": ".py",
   "mimetype": "text/x-python",
   "name": "python",
   "nbconvert_exporter": "python",
   "pygments_lexer": "ipython3",
   "version": "3.7.3"
  }
 },
 "nbformat": 4,
 "nbformat_minor": 2
}
