{
 "cells": [
  {
   "cell_type": "markdown",
   "metadata": {},
   "source": [
    "# Import and Initiate\n",
    "Make sure you have installed ds9 before running the following commands. You can either use set xpa method to 'local' or 'inet' by setting/resetting the boolean argument 'set_xpa_method_local'."
   ]
  },
  {
   "cell_type": "code",
   "execution_count": 1,
   "metadata": {
    "pycharm": {
     "is_executing": true
    }
   },
   "outputs": [
    {
     "name": "stdout",
     "output_type": "stream",
     "text": [
      "Ginga not installed, use other viewer, or no viewer\n"
     ]
    }
   ],
   "source": [
    "import os\n",
    "from pyapphot import image_management as img\n",
    "os.chdir('test_data/jcbt/')"
   ]
  },
  {
   "cell_type": "code",
   "execution_count": 10,
   "metadata": {},
   "outputs": [],
   "source": [
    "# Set the xpa communication method\n",
    "# To know more about xpa comm method, see: https://hea-www.harvard.edu/RD/xpa/method.html\n",
    "\n",
    "imex = img.imexamine(set_xpa_method_local=True) # This sets xpa method to local"
   ]
  },
  {
   "cell_type": "markdown",
   "metadata": {},
   "source": [
    "# Display an image"
   ]
  },
  {
   "cell_type": "code",
   "execution_count": 11,
   "metadata": {
    "pycharm": {
     "is_executing": true
    }
   },
   "outputs": [],
   "source": [
    "# Open the viewer and show the image(s)\n",
    "\n",
    "imex.openviewer(wait_time=30)\n",
    "imex.display('albf07jan2019_wasp50_R_030.fits')\n",
    "# or just\n",
    "# imex.display('alh2acl310100.fits') # This will automatically open the viewer"
   ]
  },
  {
   "cell_type": "markdown",
   "metadata": {},
   "source": [
    "# Display multiple images\n",
    "You can display multiple images the same way you did in IRAF/PyRAF i.e. either by using the wildcard character '*' or saving the filenames of the images to a file (say, imagelist) and put '@' before it (@imagelist). Press 'n' to go to the next image and 'p' to go to the previous image. Press 'q' to quit."
   ]
  },
  {
   "cell_type": "code",
   "execution_count": 12,
   "metadata": {
    "pycharm": {
     "is_executing": true
    }
   },
   "outputs": [
    {
     "ename": "ValueError",
     "evalue": "not enough values to unpack (expected 3, got 0)",
     "output_type": "error",
     "traceback": [
      "\u001b[0;31m---------------------------------------------------------------------------\u001b[0m",
      "\u001b[0;31mValueError\u001b[0m                                Traceback (most recent call last)",
      "\u001b[0;32m<ipython-input-12-0afa7c06ef6d>\u001b[0m in \u001b[0;36m<module>\u001b[0;34m\u001b[0m\n\u001b[1;32m      1\u001b[0m \u001b[0;31m# Examine mode\u001b[0m\u001b[0;34m\u001b[0m\u001b[0;34m\u001b[0m\u001b[0;34m\u001b[0m\u001b[0m\n\u001b[1;32m      2\u001b[0m \u001b[0;34m\u001b[0m\u001b[0m\n\u001b[0;32m----> 3\u001b[0;31m \u001b[0mimex\u001b[0m\u001b[0;34m.\u001b[0m\u001b[0mexamine_frames\u001b[0m\u001b[0;34m(\u001b[0m\u001b[0;34m'al*.fits'\u001b[0m\u001b[0;34m,\u001b[0m \u001b[0mcoordfile\u001b[0m\u001b[0;34m=\u001b[0m\u001b[0;34m'new_bf_07jan2019_wasp50_R_030.coo'\u001b[0m\u001b[0;34m)\u001b[0m\u001b[0;34m\u001b[0m\u001b[0;34m\u001b[0m\u001b[0m\n\u001b[0m",
      "\u001b[0;32m/media/aritra/Data/phd_drive/git_codes/pyapphot/pyapphot/image_management.py\u001b[0m in \u001b[0;36mexamine_frames\u001b[0;34m(self, image, coordfile, markcoords, verbose, clear_prev_coords, **kwargs)\u001b[0m\n\u001b[1;32m    261\u001b[0m         \u001b[0;32mif\u001b[0m \u001b[0mmarkcoords\u001b[0m \u001b[0;32mand\u001b[0m \u001b[0mcooass\u001b[0m\u001b[0;34m:\u001b[0m \u001b[0mself\u001b[0m\u001b[0;34m.\u001b[0m\u001b[0mmark_coords\u001b[0m\u001b[0;34m(\u001b[0m\u001b[0mcoofile\u001b[0m\u001b[0;34m=\u001b[0m\u001b[0mcooass\u001b[0m\u001b[0;34m)\u001b[0m\u001b[0;34m\u001b[0m\u001b[0;34m\u001b[0m\u001b[0m\n\u001b[1;32m    262\u001b[0m         \u001b[0;32mwhile\u001b[0m \u001b[0;32mTrue\u001b[0m\u001b[0;34m:\u001b[0m\u001b[0;34m\u001b[0m\u001b[0;34m\u001b[0m\u001b[0m\n\u001b[0;32m--> 263\u001b[0;31m             \u001b[0mx\u001b[0m\u001b[0;34m,\u001b[0m \u001b[0my\u001b[0m\u001b[0;34m,\u001b[0m \u001b[0mkey\u001b[0m \u001b[0;34m=\u001b[0m \u001b[0mself\u001b[0m\u001b[0;34m.\u001b[0m\u001b[0mviewer\u001b[0m\u001b[0;34m.\u001b[0m\u001b[0mreadcursor\u001b[0m\u001b[0;34m(\u001b[0m\u001b[0;34m)\u001b[0m\u001b[0;34m\u001b[0m\u001b[0;34m\u001b[0m\u001b[0m\n\u001b[0m\u001b[1;32m    264\u001b[0m \u001b[0;34m\u001b[0m\u001b[0m\n\u001b[1;32m    265\u001b[0m             \u001b[0;32mif\u001b[0m \u001b[0mkey\u001b[0m \u001b[0;34m==\u001b[0m \u001b[0;34m'i'\u001b[0m\u001b[0;34m:\u001b[0m\u001b[0;34m\u001b[0m\u001b[0;34m\u001b[0m\u001b[0m\n",
      "\u001b[0;32m~/anaconda3/lib/python3.7/site-packages/imexam/connect.py\u001b[0m in \u001b[0;36mreadcursor\u001b[0;34m(self)\u001b[0m\n\u001b[1;32m    301\u001b[0m         \u001b[0;32min\u001b[0m \u001b[0mthe\u001b[0m \u001b[0mform\u001b[0m \u001b[0mof\u001b[0m \u001b[0mx\u001b[0m\u001b[0;34m,\u001b[0m\u001b[0my\u001b[0m\u001b[0;34m,\u001b[0m\u001b[0mstr\u001b[0m \u001b[0;32mwith\u001b[0m \u001b[0marray\u001b[0m \u001b[0moffset\u001b[0m\u001b[0;34m\u001b[0m\u001b[0;34m\u001b[0m\u001b[0m\n\u001b[1;32m    302\u001b[0m         \"\"\"\n\u001b[0;32m--> 303\u001b[0;31m         \u001b[0;32mreturn\u001b[0m \u001b[0mself\u001b[0m\u001b[0;34m.\u001b[0m\u001b[0mwindow\u001b[0m\u001b[0;34m.\u001b[0m\u001b[0mreadcursor\u001b[0m\u001b[0;34m(\u001b[0m\u001b[0;34m)\u001b[0m\u001b[0;34m\u001b[0m\u001b[0;34m\u001b[0m\u001b[0m\n\u001b[0m\u001b[1;32m    304\u001b[0m \u001b[0;34m\u001b[0m\u001b[0m\n\u001b[1;32m    305\u001b[0m     \u001b[0;32mdef\u001b[0m \u001b[0malignwcs\u001b[0m\u001b[0;34m(\u001b[0m\u001b[0mself\u001b[0m\u001b[0;34m,\u001b[0m \u001b[0;34m**\u001b[0m\u001b[0mkwargs\u001b[0m\u001b[0;34m)\u001b[0m\u001b[0;34m:\u001b[0m\u001b[0;34m\u001b[0m\u001b[0;34m\u001b[0m\u001b[0m\n",
      "\u001b[0;32m~/anaconda3/lib/python3.7/site-packages/imexam/ds9_viewer.py\u001b[0m in \u001b[0;36mreadcursor\u001b[0;34m(self)\u001b[0m\n\u001b[1;32m    699\u001b[0m             \u001b[0;32mraise\u001b[0m \u001b[0mValueError\u001b[0m\u001b[0;34m(\u001b[0m\u001b[0;34m\"Outside of data range\"\u001b[0m\u001b[0;34m)\u001b[0m\u001b[0;34m\u001b[0m\u001b[0;34m\u001b[0m\u001b[0m\n\u001b[1;32m    700\u001b[0m \u001b[0;34m\u001b[0m\u001b[0m\n\u001b[0;32m--> 701\u001b[0;31m         \u001b[0mk\u001b[0m\u001b[0;34m,\u001b[0m \u001b[0mx\u001b[0m\u001b[0;34m,\u001b[0m \u001b[0my\u001b[0m \u001b[0;34m=\u001b[0m \u001b[0mxpa_string\u001b[0m\u001b[0;34m.\u001b[0m\u001b[0msplit\u001b[0m\u001b[0;34m(\u001b[0m\u001b[0;34m)\u001b[0m\u001b[0;34m\u001b[0m\u001b[0;34m\u001b[0m\u001b[0m\n\u001b[0m\u001b[1;32m    702\u001b[0m \u001b[0;34m\u001b[0m\u001b[0m\n\u001b[1;32m    703\u001b[0m         \u001b[0;31m# ds9 is returning 1 based array, set to 0-based since\u001b[0m\u001b[0;34m\u001b[0m\u001b[0;34m\u001b[0m\u001b[0;34m\u001b[0m\u001b[0m\n",
      "\u001b[0;31mValueError\u001b[0m: not enough values to unpack (expected 3, got 0)"
     ]
    }
   ],
   "source": [
    "# Examine mode\n",
    "\n",
    "imex.examine_frames('al*.fits', coordfile='new_bf_07jan2019_wasp50_R_030.coo')"
   ]
  },
  {
   "cell_type": "markdown",
   "metadata": {},
   "source": [
    "# Examine images\n",
    "You can examine the images by using the same method 'examine_frames'. The following shows what happens when you press the following keys:\\\n",
    "'i' : go to iraf imexamine mode, press 'q' once to leave iraf imexamine mode.\\\n",
    "',' : get the details of the PSF that you pressed on\\\n",
    "'n' : go to the next image\\\n",
    "'N' : go to the last image of the list\\\n",
    "'p' : go to the previous image\\\n",
    "'P' : go the first image of the list\\\n",
    "'s' : select the central co-odinates of the PSF you have pressed on and save the co-ordinates to the coordfile file you have chosen to save into\\\n",
    "'d' : deselect the central co-ordinates of the PSF you have pressed on and remove from the file you have saved to\\\n",
    "'r' : display radial profile of the PSF you have pressed on\\\n",
    "'q' : quit\n",
    "\n",
    "### Saving co-ordinates\n",
    "#### Assignment of Coordinates-file to an image (fits) file\n",
    "There are many ways to give filename(s) to save the co-ordinates, viz.\n",
    "1. You can skip the 'coordfile' argument and give some prefix string to the argument 'coordsprefix' or leave it empty. Then a coordfile will be created with name in the pattern prefix+image-basename(without extension)+.coo. This wil auto assign the coordfiles to the respective images.\n",
    "2. You can give multiple filenames for the co-ordinates. The number of images and number of coordfile must be same. Multiple filenames can be given the same way multiple images can be given. In that case, the images will be auto-assigned to the coordfiles in the given order. Even if one of the coordfiles was assigned before to some other image it will force assign the current image to the current coordfile following the order.\n",
    "3. Also, you can set the argument 'coordfile' with a filename. If the file exists and has already been assigned to one of the input images, only when you press 's' on that image its co-ordinates will be saved and if you press 's' on the other images, it will be ignored. If it has not been assigned to any image yet, then, the first image you press 's' on will be assigned to that co-ordinates file and rest follows. Also, you can force assign that file to any image by setting the 'imageassigned2coo' argument with that image name."
   ]
  },
  {
   "cell_type": "code",
   "execution_count": 11,
   "metadata": {
    "pycharm": {
     "is_executing": true
    },
    "scrolled": true
   },
   "outputs": [
    {
     "name": "stdout",
     "output_type": "stream",
     "text": [
      "xc=1095.5478\tyc=2272.3408\n"
     ]
    }
   ],
   "source": [
    "imex.examine_frames(image='@wasp50_R', coordfile='', coordsprefix='new_', wait_time=10, clear_prev_coords=False)"
   ]
  },
  {
   "cell_type": "code",
   "execution_count": 2,
   "metadata": {
    "scrolled": true
   },
   "outputs": [
    {
     "name": "stdout",
     "output_type": "stream",
     "text": [
      "@flatlist_R\n",
      "bias and flat correction from data is done\n"
     ]
    },
    {
     "data": {
      "text/plain": [
       "('bf_@wasp50_R', 'masterbias.fits', '', 'masterflat.fits', '', '')"
      ]
     },
     "execution_count": 2,
     "metadata": {},
     "output_type": "execute_result"
    }
   ],
   "source": [
    "img.imcorrection('@wasp50_R', 'JCBT_UKATC', dark='', flat='@flatlist_R', flatnorm=False)"
   ]
  },
  {
   "cell_type": "markdown",
   "metadata": {},
   "source": [
    "# Align images or get similar co-ordinates\n",
    "If you have a time-series frames of images then either you can align them using the 'alignimages' task. Otherwise, you can get co-ordinates of the frames of the similar objects even if they are misaligned with respect to a refernce frame."
   ]
  },
  {
   "cell_type": "code",
   "execution_count": 9,
   "metadata": {
    "pycharm": {
     "is_executing": true
    }
   },
   "outputs": [
    {
     "name": "stdout",
     "output_type": "stream",
     "text": [
      "reference image: bf_07jan2019_wasp50_R_030.fits\n",
      "reference co-ordinates: (949.677, 2933.691)\n",
      "shiftfile: shiftlist\n"
     ]
    },
    {
     "data": {
      "text/plain": [
       "{'outputs': ['albf07jan2019_wasp50_R_030.fits',\n",
       "  'albf07jan2019_wasp50_R_031.fits',\n",
       "  'albf07jan2019_wasp50_R_032.fits',\n",
       "  'albf07jan2019_wasp50_R_033.fits',\n",
       "  'albf07jan2019_wasp50_R_034.fits',\n",
       "  'albf07jan2019_wasp50_R_035.fits'],\n",
       " 'reference_coordinates_file': 'new_bf_07jan2019_wasp50_R_030.coo',\n",
       " 'maximum_misalignment': 0.38899999999966894}"
      ]
     },
     "execution_count": 9,
     "metadata": {},
     "output_type": "execute_result"
    }
   ],
   "source": [
    "# get matched co-ordinates\n",
    "# img.save_matched_coords('@wasp50_R', correfimage=0, coordsprefix='new_') # here, coordfile is not given. By default it takes the *.coo files\n",
    "# align\n",
    "# os.system('ls *.fits > imlist') # creates a file containing names of images\n",
    "img.filenames2list('bf@wasp50_R')\n",
    "img.alignimages('bf*fits', coordsprefix='new_', ibox=50,output='albf@wasp50_R') # aligns the images, you can vary ibox depending on the max shift among the frames"
   ]
  },
  {
   "cell_type": "code",
   "execution_count": null,
   "metadata": {},
   "outputs": [],
   "source": []
  }
 ],
 "metadata": {
  "kernelspec": {
   "display_name": "Python 3",
   "language": "python",
   "name": "python3"
  },
  "language_info": {
   "codemirror_mode": {
    "name": "ipython",
    "version": 3
   },
   "file_extension": ".py",
   "mimetype": "text/x-python",
   "name": "python",
   "nbconvert_exporter": "python",
   "pygments_lexer": "ipython3",
   "version": "3.7.3"
  }
 },
 "nbformat": 4,
 "nbformat_minor": 2
}
