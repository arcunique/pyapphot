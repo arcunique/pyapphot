{
 "cells": [
  {
   "cell_type": "markdown",
   "metadata": {},
   "source": [
    "# Import and Initiate\n",
    "Make sure you have installed ds9 before running the following commands. You can either use set xpa method to 'local' or 'inet' by setting/resetting the boolean argument 'set_xpa_method_local'."
   ]
  },
  {
   "cell_type": "code",
   "execution_count": 1,
   "metadata": {
    "pycharm": {
     "is_executing": true
    }
   },
   "outputs": [
    {
     "name": "stdout",
     "output_type": "stream",
     "text": [
      "Ginga not installed, use other viewer, or no viewer\n"
     ]
    }
   ],
   "source": [
    "import os\n",
    "from pyapphot import image_management as img\n",
    "os.chdir('test_data')"
   ]
  },
  {
   "cell_type": "code",
   "execution_count": 2,
   "metadata": {},
   "outputs": [],
   "source": [
    "# Set the xpa communication method\n",
    "# To know more about xpa comm method, see: https://hea-www.harvard.edu/RD/xpa/method.html\n",
    "\n",
    "imex = img.imexamine(set_xpa_method_local=True) # This sets xpa method to local"
   ]
  },
  {
   "cell_type": "markdown",
   "metadata": {},
   "source": [
    "# Display an image"
   ]
  },
  {
   "cell_type": "code",
   "execution_count": 3,
   "metadata": {
    "pycharm": {
     "is_executing": true
    }
   },
   "outputs": [],
   "source": [
    "# Open the viewer and show the image(s)\n",
    "\n",
    "imex.openviewer(wait_time=30)\n",
    "imex.display('alh2acl310100.fits')\n",
    "# or just\n",
    "# imex.display('alh2acl310100.fits') # This will automatically open the viewer"
   ]
  },
  {
   "cell_type": "markdown",
   "metadata": {},
   "source": [
    "# Display multiple images\n",
    "You can display multiple images the same way you did in IRAF/PyRAF i.e. either by using the wildcard character '*' or saving the filenames of the images to a file (say, imagelist) and put '@' before it (@imagelist). Press 'n' to go to the next image and 'p' to go to the previous image. Press 'q' to quit."
   ]
  },
  {
   "cell_type": "code",
   "execution_count": 4,
   "metadata": {
    "pycharm": {
     "is_executing": true
    }
   },
   "outputs": [
    {
     "name": "stdout",
     "output_type": "stream",
     "text": [
      "xc=263.5863\tyc=1145.8722\n",
      "XC=263.5862675899253\tYC=1145.8722340713143\n",
      "XC_err=3.3604986298153103\tYC_err=3.0227691234962264\n",
      "xc=263.5863\tyc=1145.8722\n",
      "XC=263.5862675899253\tYC=1145.8722340713143\n",
      "XC_err=3.3604986298153103\tYC_err=3.0227691234962264\n",
      "entering iraf-imexamine mode, press q to exit\n",
      "#   COL    LINE    RMAG     FLUX      SKY   N  RMOM ELLIP    PA     PEAK MFWHM\n",
      " 264.60 1146.93    7.43 10638100.0 14220.00  79  3.39 0.065  23.6 274488.3  6.37\n",
      " 566.66  895.21    7.71 8239002.0 13450.00  80 INDEF 0.043  19.4 216883.8  6.17\n",
      " 621.16 1743.22    7.13 14019015.0 15326.00  78  1.68 0.049  11.7 378860.4  6.07\n",
      "1288.63  397.42    8.49 4033348.0 14764.00  80  2.74 0.409 -89.5 41577.39  4.63\n",
      "exiting iraf-imexamine mode\n",
      "entering iraf-imexamine mode, press q to exit\n",
      "#   COL    LINE    RMAG     FLUX      SKY   N  RMOM ELLIP    PA     PEAK MFWHM\n",
      " 264.78 1147.00    7.49 10138567.0 14388.60  76  2.10 0.021  22.4 288701.1  5.89\n",
      " 566.79  895.16    7.77 7797240.1 13591.96  78  3.04 0.029 -82.1 215099.5  6.02\n",
      "1288.31  404.41    6.81 18837246.8 17641.99  80 INDEF 0.039  83.5 514372.4  5.94\n",
      "exiting iraf-imexamine mode\n",
      "entering iraf-imexamine mode, press q to exit\n",
      "#   COL    LINE    RMAG     FLUX      SKY   N  RMOM ELLIP    PA     PEAK MFWHM\n",
      " 268.92 1146.57    7.82 7466884.4 14334.75  79  5.80 0.237  -6.7 91842.16 216.0\n",
      " 264.78 1146.88    7.52 9850633.0 14407.16  78  2.55 0.084  21.2 278564.4  5.87\n",
      " 566.80  895.07    7.82 7472760.7 13544.67  78  3.52 0.067  13.9 203613.8  6.11\n",
      " 621.38 1743.25    7.21 13026661.2 15361.20  80  1.94 0.079  11.0 352985.7  5.98\n",
      "1288.31  404.98    6.87 17792940.0 17672.88  77  1.91 0.072  14.3 486294.1  6.03\n",
      "exiting iraf-imexamine mode\n",
      "entering iraf-imexamine mode, press q to exit\n",
      "#   COL    LINE    RMAG     FLUX      SKY   N  RMOM ELLIP    PA     PEAK MFWHM\n",
      " 264.79 1147.03    7.45 10462514.2 13925.74  77  4.30 0.125  31.2 293953.0  6.03\n",
      " 264.79 1147.03    7.45 10462514.2 13925.74  77  4.30 0.125  31.2 293953.0  6.03\n",
      " 566.81  895.15    7.75 7957805.8 13197.15  78  4.55 0.098  35.2 217885.3  6.16\n",
      " 621.40 1743.68    7.15 13837677.7 14831.38  80  2.22 0.105  26.3 371847.4  6.10\n",
      "1288.48  404.99    6.78 19346299.4 16741.98  78 INDEF 0.146  22.8 545720.9  5.83\n",
      "1288.48  405.03    6.77 19543114.9 16644.90  80 INDEF 0.127  26.9 546096.2  5.82\n",
      "exiting iraf-imexamine mode\n"
     ]
    }
   ],
   "source": [
    "# Examine mode\n",
    "\n",
    "imex.examine_frames('al*.fits', coordfile='new_h2acl310100.coo')"
   ]
  },
  {
   "cell_type": "markdown",
   "metadata": {},
   "source": [
    "# Examine images\n",
    "You can examine the images by using the same method 'examine_frames'. The following shows what happens when you press the following keys:\\\n",
    "'i' : go to iraf imexamine mode, press 'q' once to leave iraf imexamine mode.\\\n",
    "',' : get the details of the PSF that you pressed on\\\n",
    "'n' : go to the next image\\\n",
    "'N' : go to the last image of the list\\\n",
    "'p' : go to the previous image\\\n",
    "'P' : go the first image of the list\\\n",
    "'s' : select the central co-odinates of the PSF you have pressed on and save the co-ordinates to the coordfile file you have chosen to save into\\\n",
    "'d' : deselect the central co-ordinates of the PSF you have pressed on and remove from the file you have saved to\\\n",
    "'r' : display radial profile of the PSF you have pressed on\\\n",
    "'q' : quit\n",
    "\n",
    "### Saving co-ordinates\n",
    "#### Assignment of Coordinates-file to an image (fits) file\n",
    "There are many ways to give filename(s) to save the co-ordinates, viz.\n",
    "1. You can skip the 'coordfile' argument and give some prefix string to the argument 'coordsprefix' or leave it empty. Then a coordfile will be created with name in the pattern prefix+image-basename(without extension)+.coo. This wil auto assign the coordfiles to the respective images.\n",
    "2. You can give multiple filenames for the co-ordinates. The number of images and number of coordfile must be same. Multiple filenames can be given the same way multiple images can be given. In that case, the images will be auto-assigned to the coordfiles in the given order. Even if one of the coordfiles was assigned before to some other image it will force assign the current image to the current coordfile following the order.\n",
    "3. Also, you can set the argument 'coordfile' with a filename. If the file exists and has already been assigned to one of the input images, only when you press 's' on that image its co-ordinates will be saved and if you press 's' on the other images, it will be ignored. If it has not been assigned to any image yet, then, the first image you press 's' on will be assigned to that co-ordinates file and rest follows. Also, you can force assign that file to any image by setting the 'imageassigned2coo' argument with that image name."
   ]
  },
  {
   "cell_type": "code",
   "execution_count": 5,
   "metadata": {
    "pycharm": {
     "is_executing": true
    }
   },
   "outputs": [
    {
     "name": "stdout",
     "output_type": "stream",
     "text": [
      "xc=263.5863\tyc=1145.8722\n",
      "xc=565.6814\tyc=894.2403\n",
      "xc=620.2962\tyc=1742.2601\n",
      "xc=1287.2993\tyc=404.1012\n"
     ]
    }
   ],
   "source": [
    "imex.examine_frames(image='*fits[1]', coordfile='', coordsprefix='new_', wait_time=10, clear_prev_coords=False)"
   ]
  },
  {
   "cell_type": "markdown",
   "metadata": {},
   "source": [
    "# Align images or get similar co-ordinates\n",
    "If you have a time-series frames of images then either you can align them using the 'alignimages' task. Otherwise, you can get co-ordinates of the frames of the similar objects even if they are misaligned with respect to a refernce frame."
   ]
  },
  {
   "cell_type": "code",
   "execution_count": 4,
   "metadata": {
    "pycharm": {
     "is_executing": true
    }
   },
   "outputs": [
    {
     "name": "stdout",
     "output_type": "stream",
     "text": [
      "reference image: h2acl310100.fits[1]\n",
      "reference co-ordinates: (264.803, 1146.937)\n",
      "shiftfile: shiftlist\n"
     ]
    },
    {
     "data": {
      "text/plain": [
       "{'outputs': ['alh2acl310100.fits',\n",
       "  'alh2acl310101.fits',\n",
       "  'alh2acl310102.fits',\n",
       "  'alh2acl310103.fits',\n",
       "  'alh2acl310104.fits'],\n",
       " 'reference_coordinates_file': 'h2acl310100.coo',\n",
       " 'maximum_misalignment': 0.19200000000000728}"
      ]
     },
     "execution_count": 4,
     "metadata": {},
     "output_type": "execute_result"
    }
   ],
   "source": [
    "# get matched co-ordinates\n",
    "# img.save_matched_coords('*.fits[1]', correfimage=0, coordsprefix='new_') # here, coordfile is not given. By default it takes the *.coo files\n",
    "# align\n",
    "os.system('ls *.fits > imlist') # creates a file containing names of images\n",
    "img.alignimages('*.fits[1]',ibox=50,output='al@imlist') # aligns the images, you can vary ibox depending on the max shift among the frames"
   ]
  },
  {
   "cell_type": "code",
   "execution_count": null,
   "metadata": {},
   "outputs": [],
   "source": []
  }
 ],
 "metadata": {
  "kernelspec": {
   "display_name": "Python 3",
   "language": "python",
   "name": "python3"
  },
  "language_info": {
   "codemirror_mode": {
    "name": "ipython",
    "version": 3
   },
   "file_extension": ".py",
   "mimetype": "text/x-python",
   "name": "python",
   "nbconvert_exporter": "python",
   "pygments_lexer": "ipython3",
   "version": "3.7.3"
  }
 },
 "nbformat": 4,
 "nbformat_minor": 2
}
