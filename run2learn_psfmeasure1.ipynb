{
 "cells": [
  {
   "cell_type": "code",
   "execution_count": 1,
   "metadata": {},
   "outputs": [
    {
     "name": "stdout",
     "output_type": "stream",
     "text": [
      "Ginga not installed, use other viewer, or no viewer\n"
     ]
    }
   ],
   "source": [
    "import os, numpy as np, logging\n",
    "from pyapphot.apphot import starPSF\n",
    "from pyapphot.utils import store_filenames\n",
    "os.chdir('test_data/jcbt/')"
   ]
  },
  {
   "cell_type": "markdown",
   "metadata": {},
   "source": [
    "# Calculate PSF properties at given co-ordinates\n",
    "PSF properties which are required for checking the quality of the images and also for photometry are:\\\n",
    "FWHM, peak,ellipticity, pa ,background-sky noise. You can calculate all the properties using the starPSF class and save the results to a pickle file which can be opened later."
   ]
  },
  {
   "cell_type": "code",
   "execution_count": 2,
   "metadata": {},
   "outputs": [
    {
     "name": "stdout",
     "output_type": "stream",
     "text": [
      "xc=948.6236\tyc=2932.7997\n",
      "xc=1089.9807\tyc=688.0503\n",
      "xc=846.4712\tyc=204.7184\n",
      "xc=1095.5463\tyc=2272.3428\n",
      "xc=948.6176\tyc=2932.7317\n",
      "xc=1089.8859\tyc=688.2036\n",
      "xc=846.4329\tyc=204.8784\n",
      "xc=1095.5365\tyc=2272.1975\n",
      "xc=948.6481\tyc=2932.6049\n",
      "xc=1089.9644\tyc=688.0907\n",
      "xc=846.4599\tyc=204.8185\n",
      "xc=1095.5373\tyc=2272.1431\n",
      "xc=948.7265\tyc=2932.5301\n",
      "xc=1089.9702\tyc=688.2495\n",
      "xc=846.4159\tyc=204.9176\n",
      "xc=1095.6041\tyc=2272.1295\n",
      "xc=948.6383\tyc=2932.6270\n",
      "xc=1089.9783\tyc=688.2095\n",
      "xc=846.5224\tyc=204.9318\n",
      "xc=1095.6257\tyc=2272.2149\n",
      "xc=948.6534\tyc=2932.6489\n",
      "xc=1089.9837\tyc=687.9903\n",
      "xc=846.3963\tyc=204.6261\n",
      "xc=1095.5980\tyc=2272.0137\n"
     ]
    }
   ],
   "source": [
    "psf = starPSF(image='albf*.fits', coordfile='new_bf_07jan2019_wasp50_R_030.coo', calculate=True, saveto='imstat.pkl') "
   ]
  },
  {
   "cell_type": "markdown",
   "metadata": {},
   "source": [
    "# Load PSF stat and analyze image quality"
   ]
  },
  {
   "cell_type": "code",
   "execution_count": 2,
   "metadata": {},
   "outputs": [
    {
     "name": "stdout",
     "output_type": "stream",
     "text": [
      "{'ellip': array([[0.02, 0.04, 0.02, 0.02],\n",
      "       [0.02, 0.02, 0.01, 0.01],\n",
      "       [0.04, 0.01, 0.  , 0.01],\n",
      "       [0.08, 0.03, 0.04, 0.05],\n",
      "       [0.05, 0.04, 0.03, 0.04],\n",
      "       [0.04, 0.02, 0.05, 0.05]]), 'peak': array([[ 4674.16086318,  3197.17871246,  9927.81312818, 20023.64846985],\n",
      "       [ 5120.46067834,  3476.07143611, 10790.61522491, 21647.95801661],\n",
      "       [ 3865.43662279,  2610.37614436,  8074.01089724, 15905.78418324],\n",
      "       [ 2810.58260038,  2006.17599869,  6299.5766085 , 11716.59031954],\n",
      "       [ 2749.35874714,  1881.76802317,  5981.40939224, 11819.89013681],\n",
      "       [ 2270.23808048,  1603.466401  ,  4981.87262403,  9859.03201226]]), 'fwhm': array([[6.436, 6.224, 6.264, 6.164],\n",
      "       [5.96 , 5.988, 5.968, 5.78 ],\n",
      "       [6.8  , 6.66 , 6.816, 6.672],\n",
      "       [7.636, 7.272, 7.196, 7.392],\n",
      "       [7.544, 7.42 , 7.372, 7.236],\n",
      "       [9.139, 7.796, 7.884, 7.744]]), 'image': ['albf07jan2019_wasp50_R_030.fits', 'albf07jan2019_wasp50_R_031.fits', 'albf07jan2019_wasp50_R_032.fits', 'albf07jan2019_wasp50_R_033.fits', 'albf07jan2019_wasp50_R_034.fits', 'albf07jan2019_wasp50_R_035.fits'], 'coordfile': ['new_bf_07jan2019_wasp50_R_030.coo', 'new_bf_07jan2019_wasp50_R_030.coo', 'new_bf_07jan2019_wasp50_R_030.coo', 'new_bf_07jan2019_wasp50_R_030.coo', 'new_bf_07jan2019_wasp50_R_030.coo', 'new_bf_07jan2019_wasp50_R_030.coo'], 'Nobject': [4, 4, 4, 4, 4, 4]}\n"
     ]
    }
   ],
   "source": [
    "psf =  starPSF(image='al@imlist', coordfile='new*.coo', loadfrom='imstat.pkl')\n",
    "psfstats = psf.get_stat('all', statkey=['ellip','peak','fwhm'], return_dict=True) # check some properties\n",
    "# or just\n",
    "# starPSF.get_stat(None,statkey=['ellip','peak','fwhm']) # check some properties\n",
    "print(psfstats)"
   ]
  },
  {
   "cell_type": "markdown",
   "metadata": {},
   "source": [
    "You can impose criteria and select the objects and frames accordingly. You can set a trade-off between removing bad objects and bad frames by the argument 'Nfiledelmax'. This tells you how many frames you are ready to remove from your calculation at most. Accordingly the objects not matching the criteria will be removed.This analysis will give you a list of frames that satisfy the given criteria for each object and also tells you how many frames and how many objects you need to remove from your calculation."
   ]
  },
  {
   "cell_type": "code",
   "execution_count": 3,
   "metadata": {},
   "outputs": [
    {
     "name": "stdout",
     "output_type": "stream",
     "text": [
      "object 0: conditions met by all the images.\n",
      "object 2: conditions not met by 2 image(s).\n",
      "object 2: conditions met by all the images.\n",
      "object 3: conditions met by all the images.\n",
      "\n",
      "Following files are selected per object\n",
      "\n",
      "Object 1: albf07jan2019_wasp50_R_030.fits, albf07jan2019_wasp50_R_031.fits, albf07jan2019_wasp50_R_032.fits, albf07jan2019_wasp50_R_033.fits, albf07jan2019_wasp50_R_034.fits, albf07jan2019_wasp50_R_035.fits\n",
      "Object 2: albf07jan2019_wasp50_R_030.fits, albf07jan2019_wasp50_R_031.fits, albf07jan2019_wasp50_R_032.fits, albf07jan2019_wasp50_R_033.fits\n",
      "Object 3: albf07jan2019_wasp50_R_030.fits, albf07jan2019_wasp50_R_031.fits, albf07jan2019_wasp50_R_032.fits, albf07jan2019_wasp50_R_033.fits, albf07jan2019_wasp50_R_034.fits, albf07jan2019_wasp50_R_035.fits\n",
      "Object 4: albf07jan2019_wasp50_R_030.fits, albf07jan2019_wasp50_R_031.fits, albf07jan2019_wasp50_R_032.fits, albf07jan2019_wasp50_R_033.fits, albf07jan2019_wasp50_R_034.fits, albf07jan2019_wasp50_R_035.fits\n"
     ]
    },
    {
     "data": {
      "text/plain": [
       "{'delete_images': ['albf07jan2019_wasp50_R_035.fits',\n",
       "  'albf07jan2019_wasp50_R_034.fits'],\n",
       " 'remove_obj': []}"
      ]
     },
     "execution_count": 3,
     "metadata": {},
     "output_type": "execute_result"
    }
   ],
   "source": [
    "criteria = dict(ellip=(0,0.13),peak=(2000,50000))\n",
    "imselected, remove = psf.select_imageNobj(criteria, objsynced=True, Nfiledelmax=2)\n",
    "print(\"\\nFollowing files are selected per object\\n\")\n",
    "for i,im in enumerate(imselected):\n",
    "    print(f\"Object {i+1}: {', '.join(im)}\")\n",
    "remove"
   ]
  },
  {
   "cell_type": "code",
   "execution_count": 10,
   "metadata": {},
   "outputs": [],
   "source": [
    "# psf.adjust_coordfile(remove['remove_obj'])"
   ]
  },
  {
   "cell_type": "code",
   "execution_count": 4,
   "metadata": {},
   "outputs": [],
   "source": [
    "store_filenames('albf*.fits', remove['delete_images'], 'photimlist')"
   ]
  },
  {
   "cell_type": "code",
   "execution_count": null,
   "metadata": {},
   "outputs": [],
   "source": []
  }
 ],
 "metadata": {
  "kernelspec": {
   "display_name": "Python 3",
   "language": "python",
   "name": "python3"
  },
  "language_info": {
   "codemirror_mode": {
    "name": "ipython",
    "version": 3
   },
   "file_extension": ".py",
   "mimetype": "text/x-python",
   "name": "python",
   "nbconvert_exporter": "python",
   "pygments_lexer": "ipython3",
   "version": "3.7.3"
  }
 },
 "nbformat": 4,
 "nbformat_minor": 2
}
