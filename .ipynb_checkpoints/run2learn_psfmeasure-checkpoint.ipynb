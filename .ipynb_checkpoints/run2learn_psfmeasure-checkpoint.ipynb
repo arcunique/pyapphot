{
 "cells": [
  {
   "cell_type": "code",
   "execution_count": 1,
   "metadata": {},
   "outputs": [
    {
     "name": "stdout",
     "output_type": "stream",
     "text": [
      "Ginga not installed, use other viewer, or no viewer\n"
     ]
    }
   ],
   "source": [
    "import os, numpy as np, logging\n",
    "from pyapphot.apphot import starPSF"
   ]
  },
  {
   "cell_type": "markdown",
   "metadata": {},
   "source": [
    "# Calculate PSF properties at given co-ordinates\n",
    "PSF properties which are required for checking the quality of the images and also for photometry are:\\\n",
    "FWHM, peak,ellipticity, pa ,background-sky noise. You can calculate all the properties using the starPSF class and save the results to a pickle file which can be opened later."
   ]
  },
  {
   "cell_type": "code",
   "execution_count": null,
   "metadata": {},
   "outputs": [],
   "source": [
    "psf = starPSF(image='al@imlist', coordfile='*coo', calculate=True, saveto='imstat.pkl') "
   ]
  },
  {
   "cell_type": "markdown",
   "metadata": {},
   "source": [
    "# Load PSF stat and analyze image quality"
   ]
  },
  {
   "cell_type": "code",
   "execution_count": null,
   "metadata": {},
   "outputs": [],
   "source": [
    "psf =  starPSF(image='al@imlist', coordfile='*coo', loadfrom='imstat.pkl')\n",
    "psf.get_stat(None,statkey=['ellip','peak','fwhm']) # check some properties\n",
    "# or just\n",
    "# starPSF.get_stat(None,statkey=['ellip','peak','fwhm']) # check some properties"
   ]
  },
  {
   "cell_type": "markdown",
   "metadata": {},
   "source": [
    "You can impose criteria and select the objects and frames accordingly. You can set a trade-off between removing bad objects and bad frames by the argument 'Nfiledelmax'. This tells you how many frames you are ready to remove from your calculation at most. Accordingly the objects not matching the criteria will be removed.This analysis will give you a list of frames that satisfy the given criteria for each object and also tells you how many frames and how many objects you need to remove from your calculation."
   ]
  },
  {
   "cell_type": "code",
   "execution_count": null,
   "metadata": {},
   "outputs": [],
   "source": [
    "criteria = dict(ellip=(0,0.13),peak=(80000,500000))\n",
    "imselected, remove = psf.select_imageNobj(criteria, objsynced=True, Nfiledelmax=6))\n",
    "for i,im in enumerate(imselected):\n",
    "    print(f'Object {i}: {', '.join(im)}')\n",
    "remove"
   ]
  }
 ],
 "metadata": {
  "kernelspec": {
   "display_name": "Python 3",
   "language": "python",
   "name": "python3"
  },
  "language_info": {
   "codemirror_mode": {
    "name": "ipython",
    "version": 3
   },
   "file_extension": ".py",
   "mimetype": "text/x-python",
   "name": "python",
   "nbconvert_exporter": "python",
   "pygments_lexer": "ipython3",
   "version": "3.7.3"
  }
 },
 "nbformat": 4,
 "nbformat_minor": 2
}
