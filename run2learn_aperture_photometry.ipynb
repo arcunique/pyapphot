{
 "cells": [
  {
   "cell_type": "code",
   "execution_count": null,
   "metadata": {},
   "outputs": [],
   "source": [
    "import os, numpy as np, logging\n",
    "from pyapphot.apphot import aperture_phot as apphot"
   ]
  },
  {
   "cell_type": "markdown",
   "metadata": {},
   "source": [
    "# Aperture photometry\n",
    "You can perform aperture photometry with the class 'aperture_phot'. \n",
    "### Input parameters:\n",
    "1. Various PSF properties are required to be passed to this class. For this purpose you can use the 'starPSF' class and pass the result directly or the pickle file containing the result to this class. \n",
    "2. Another important input parameter is the configuration file. This file should contain all the information about the observation and the detector. Many information are already stored in the header section of the fits file. Information about Which header corresponds to what parameter has to be filled in the configuration file under the 'header_keys' section. If any value of a parameter is directly known that can be stored under the 'values' section of the config file. An example config file can be found in root/pyapphot-master/pyapphot/config folder named 'HFOSC2'. This file corresponds to the instrument HFOSC2 at the backend of the 2m Himalayan Chandra Telescope at Hanle, India. This file name has to be passed to this class. \n",
    "3. Other input parameters are apertures (list or tuple), min and max allowable counts, sky position w.r.t. the PSF etc."
   ]
  },
  {
   "cell_type": "code",
   "execution_count": null,
   "metadata": {},
   "outputs": [],
   "source": [
    "phot = apphot(image='al@imlist', coordfile='*coo', calculate=True, saveto='photdat.pkl', instrument='HFOSC2', aperture=range(15,20), skypos=(8,7), imstat='imstat.pkl')"
   ]
  },
  {
   "cell_type": "markdown",
   "metadata": {},
   "source": [
    "# Differential photometry\n",
    "You can perform basic differential photometry using the 'differential_photometry' of the 'aperture_phot' class."
   ]
  },
  {
   "cell_type": "code",
   "execution_count": null,
   "metadata": {},
   "outputs": [],
   "source": [
    "phot = apphot(loadfrom='photdat.pkl',)\n",
    "print(phot.ferr/phot.flux)\n",
    "t,dflux,dferr,dmag,dmerr = phot.differential_photometry(aperture=18)) "
   ]
  },
  {
   "cell_type": "code",
   "execution_count": null,
   "metadata": {},
   "outputs": [],
   "source": [
    "import matplotlib.pyplot as plt\n",
    "%matplotlib inline\n",
    "plt.errorbar(t,dflux,dferr, fmt='.')\n",
    "plt.xlabel('Time')\n",
    "plt.ylabel('Differential flux obj0/obj1')"
   ]
  }
 ],
 "metadata": {
  "kernelspec": {
   "display_name": "Python 3",
   "language": "python",
   "name": "python3"
  },
  "language_info": {
   "codemirror_mode": {
    "name": "ipython",
    "version": 3
   },
   "file_extension": ".py",
   "mimetype": "text/x-python",
   "name": "python",
   "nbconvert_exporter": "python",
   "pygments_lexer": "ipython3",
   "version": "3.7.3"
  }
 },
 "nbformat": 4,
 "nbformat_minor": 2
}
